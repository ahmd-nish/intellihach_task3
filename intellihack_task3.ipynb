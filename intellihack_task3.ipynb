{
  "cells": [
    {
      "cell_type": "markdown",
      "metadata": {
        "id": "gBtk_tC8zmC1"
      },
      "source": [
        "## Bank PDF Query Using Langchain"
      ]
    },
    {
      "cell_type": "code",
      "execution_count": 1,
      "metadata": {
        "colab": {
          "base_uri": "https://localhost:8080/"
        },
        "id": "5rdAYZepFhJM",
        "outputId": "7fd798d1-e110-4197-ffd5-6ae213e40a34"
      },
      "outputs": [
        {
          "name": "stdout",
          "output_type": "stream",
          "text": [
            "Collecting langchain\n",
            "  Downloading langchain-0.1.17-py3-none-any.whl (867 kB)\n",
            "\u001b[?25l     \u001b[90m━━━━━━━━━━━━━━━━━━━━━━━━━━━━━━━━━━━━━━━━\u001b[0m \u001b[32m0.0/867.6 kB\u001b[0m \u001b[31m?\u001b[0m eta \u001b[36m-:--:--\u001b[0m\r\u001b[2K     \u001b[91m━━━\u001b[0m\u001b[90m╺\u001b[0m\u001b[90m━━━━━━━━━━━━━━━━━━━━━━━━━━━━━━━━━━━━\u001b[0m \u001b[32m71.7/867.6 kB\u001b[0m \u001b[31m2.1 MB/s\u001b[0m eta \u001b[36m0:00:01\u001b[0m\r\u001b[2K     \u001b[91m━━━━━━━━━━━━━━━━━━━━━━━━━━━━━━━━━━━━━━━\u001b[0m\u001b[91m╸\u001b[0m \u001b[32m860.2/867.6 kB\u001b[0m \u001b[31m14.0 MB/s\u001b[0m eta \u001b[36m0:00:01\u001b[0m\r\u001b[2K     \u001b[90m━━━━━━━━━━━━━━━━━━━━━━━━━━━━━━━━━━━━━━━━\u001b[0m \u001b[32m867.6/867.6 kB\u001b[0m \u001b[31m10.1 MB/s\u001b[0m eta \u001b[36m0:00:00\u001b[0m\n",
            "\u001b[?25hRequirement already satisfied: PyYAML>=5.3 in /usr/local/lib/python3.10/dist-packages (from langchain) (6.0.1)\n",
            "Requirement already satisfied: SQLAlchemy<3,>=1.4 in /usr/local/lib/python3.10/dist-packages (from langchain) (2.0.29)\n",
            "Requirement already satisfied: aiohttp<4.0.0,>=3.8.3 in /usr/local/lib/python3.10/dist-packages (from langchain) (3.9.5)\n",
            "Requirement already satisfied: async-timeout<5.0.0,>=4.0.0 in /usr/local/lib/python3.10/dist-packages (from langchain) (4.0.3)\n",
            "Collecting dataclasses-json<0.7,>=0.5.7 (from langchain)\n",
            "  Downloading dataclasses_json-0.6.5-py3-none-any.whl (28 kB)\n",
            "Collecting jsonpatch<2.0,>=1.33 (from langchain)\n",
            "  Downloading jsonpatch-1.33-py2.py3-none-any.whl (12 kB)\n",
            "Collecting langchain-community<0.1,>=0.0.36 (from langchain)\n",
            "  Downloading langchain_community-0.0.36-py3-none-any.whl (2.0 MB)\n",
            "\u001b[2K     \u001b[90m━━━━━━━━━━━━━━━━━━━━━━━━━━━━━━━━━━━━━━━━\u001b[0m \u001b[32m2.0/2.0 MB\u001b[0m \u001b[31m49.3 MB/s\u001b[0m eta \u001b[36m0:00:00\u001b[0m\n",
            "\u001b[?25hCollecting langchain-core<0.2.0,>=0.1.48 (from langchain)\n",
            "  Downloading langchain_core-0.1.50-py3-none-any.whl (302 kB)\n",
            "\u001b[2K     \u001b[90m━━━━━━━━━━━━━━━━━━━━━━━━━━━━━━━━━━━━━━━━\u001b[0m \u001b[32m302.8/302.8 kB\u001b[0m \u001b[31m30.2 MB/s\u001b[0m eta \u001b[36m0:00:00\u001b[0m\n",
            "\u001b[?25hCollecting langchain-text-splitters<0.1,>=0.0.1 (from langchain)\n",
            "  Downloading langchain_text_splitters-0.0.1-py3-none-any.whl (21 kB)\n",
            "Collecting langsmith<0.2.0,>=0.1.17 (from langchain)\n",
            "  Downloading langsmith-0.1.54-py3-none-any.whl (116 kB)\n",
            "\u001b[2K     \u001b[90m━━━━━━━━━━━━━━━━━━━━━━━━━━━━━━━━━━━━━━━━\u001b[0m \u001b[32m116.7/116.7 kB\u001b[0m \u001b[31m11.2 MB/s\u001b[0m eta \u001b[36m0:00:00\u001b[0m\n",
            "\u001b[?25hRequirement already satisfied: numpy<2,>=1 in /usr/local/lib/python3.10/dist-packages (from langchain) (1.25.2)\n",
            "Requirement already satisfied: pydantic<3,>=1 in /usr/local/lib/python3.10/dist-packages (from langchain) (2.7.1)\n",
            "Requirement already satisfied: requests<3,>=2 in /usr/local/lib/python3.10/dist-packages (from langchain) (2.31.0)\n",
            "Requirement already satisfied: tenacity<9.0.0,>=8.1.0 in /usr/local/lib/python3.10/dist-packages (from langchain) (8.2.3)\n",
            "Requirement already satisfied: aiosignal>=1.1.2 in /usr/local/lib/python3.10/dist-packages (from aiohttp<4.0.0,>=3.8.3->langchain) (1.3.1)\n",
            "Requirement already satisfied: attrs>=17.3.0 in /usr/local/lib/python3.10/dist-packages (from aiohttp<4.0.0,>=3.8.3->langchain) (23.2.0)\n",
            "Requirement already satisfied: frozenlist>=1.1.1 in /usr/local/lib/python3.10/dist-packages (from aiohttp<4.0.0,>=3.8.3->langchain) (1.4.1)\n",
            "Requirement already satisfied: multidict<7.0,>=4.5 in /usr/local/lib/python3.10/dist-packages (from aiohttp<4.0.0,>=3.8.3->langchain) (6.0.5)\n",
            "Requirement already satisfied: yarl<2.0,>=1.0 in /usr/local/lib/python3.10/dist-packages (from aiohttp<4.0.0,>=3.8.3->langchain) (1.9.4)\n",
            "Collecting marshmallow<4.0.0,>=3.18.0 (from dataclasses-json<0.7,>=0.5.7->langchain)\n",
            "  Downloading marshmallow-3.21.2-py3-none-any.whl (49 kB)\n",
            "\u001b[2K     \u001b[90m━━━━━━━━━━━━━━━━━━━━━━━━━━━━━━━━━━━━━━━━\u001b[0m \u001b[32m49.3/49.3 kB\u001b[0m \u001b[31m1.5 MB/s\u001b[0m eta \u001b[36m0:00:00\u001b[0m\n",
            "\u001b[?25hCollecting typing-inspect<1,>=0.4.0 (from dataclasses-json<0.7,>=0.5.7->langchain)\n",
            "  Downloading typing_inspect-0.9.0-py3-none-any.whl (8.8 kB)\n",
            "Collecting jsonpointer>=1.9 (from jsonpatch<2.0,>=1.33->langchain)\n",
            "  Downloading jsonpointer-2.4-py2.py3-none-any.whl (7.8 kB)\n",
            "Collecting packaging<24.0,>=23.2 (from langchain-core<0.2.0,>=0.1.48->langchain)\n",
            "  Downloading packaging-23.2-py3-none-any.whl (53 kB)\n",
            "\u001b[2K     \u001b[90m━━━━━━━━━━━━━━━━━━━━━━━━━━━━━━━━━━━━━━━━\u001b[0m \u001b[32m53.0/53.0 kB\u001b[0m \u001b[31m7.5 MB/s\u001b[0m eta \u001b[36m0:00:00\u001b[0m\n",
            "\u001b[?25hCollecting orjson<4.0.0,>=3.9.14 (from langsmith<0.2.0,>=0.1.17->langchain)\n",
            "  Downloading orjson-3.10.3-cp310-cp310-manylinux_2_17_x86_64.manylinux2014_x86_64.whl (142 kB)\n",
            "\u001b[2K     \u001b[90m━━━━━━━━━━━━━━━━━━━━━━━━━━━━━━━━━━━━━━━━\u001b[0m \u001b[32m142.5/142.5 kB\u001b[0m \u001b[31m19.8 MB/s\u001b[0m eta \u001b[36m0:00:00\u001b[0m\n",
            "\u001b[?25hRequirement already satisfied: annotated-types>=0.4.0 in /usr/local/lib/python3.10/dist-packages (from pydantic<3,>=1->langchain) (0.6.0)\n",
            "Requirement already satisfied: pydantic-core==2.18.2 in /usr/local/lib/python3.10/dist-packages (from pydantic<3,>=1->langchain) (2.18.2)\n",
            "Requirement already satisfied: typing-extensions>=4.6.1 in /usr/local/lib/python3.10/dist-packages (from pydantic<3,>=1->langchain) (4.11.0)\n",
            "Requirement already satisfied: charset-normalizer<4,>=2 in /usr/local/lib/python3.10/dist-packages (from requests<3,>=2->langchain) (3.3.2)\n",
            "Requirement already satisfied: idna<4,>=2.5 in /usr/local/lib/python3.10/dist-packages (from requests<3,>=2->langchain) (3.7)\n",
            "Requirement already satisfied: urllib3<3,>=1.21.1 in /usr/local/lib/python3.10/dist-packages (from requests<3,>=2->langchain) (2.0.7)\n",
            "Requirement already satisfied: certifi>=2017.4.17 in /usr/local/lib/python3.10/dist-packages (from requests<3,>=2->langchain) (2024.2.2)\n",
            "Requirement already satisfied: greenlet!=0.4.17 in /usr/local/lib/python3.10/dist-packages (from SQLAlchemy<3,>=1.4->langchain) (3.0.3)\n",
            "Collecting mypy-extensions>=0.3.0 (from typing-inspect<1,>=0.4.0->dataclasses-json<0.7,>=0.5.7->langchain)\n",
            "  Downloading mypy_extensions-1.0.0-py3-none-any.whl (4.7 kB)\n",
            "Installing collected packages: packaging, orjson, mypy-extensions, jsonpointer, typing-inspect, marshmallow, jsonpatch, langsmith, dataclasses-json, langchain-core, langchain-text-splitters, langchain-community, langchain\n",
            "  Attempting uninstall: packaging\n",
            "    Found existing installation: packaging 24.0\n",
            "    Uninstalling packaging-24.0:\n",
            "      Successfully uninstalled packaging-24.0\n",
            "Successfully installed dataclasses-json-0.6.5 jsonpatch-1.33 jsonpointer-2.4 langchain-0.1.17 langchain-community-0.0.36 langchain-core-0.1.50 langchain-text-splitters-0.0.1 langsmith-0.1.54 marshmallow-3.21.2 mypy-extensions-1.0.0 orjson-3.10.3 packaging-23.2 typing-inspect-0.9.0\n",
            "Collecting openai\n",
            "  Downloading openai-1.25.1-py3-none-any.whl (312 kB)\n",
            "\u001b[2K     \u001b[90m━━━━━━━━━━━━━━━━━━━━━━━━━━━━━━━━━━━━━━━━\u001b[0m \u001b[32m312.9/312.9 kB\u001b[0m \u001b[31m7.1 MB/s\u001b[0m eta \u001b[36m0:00:00\u001b[0m\n",
            "\u001b[?25hRequirement already satisfied: anyio<5,>=3.5.0 in /usr/local/lib/python3.10/dist-packages (from openai) (3.7.1)\n",
            "Requirement already satisfied: distro<2,>=1.7.0 in /usr/lib/python3/dist-packages (from openai) (1.7.0)\n",
            "Collecting httpx<1,>=0.23.0 (from openai)\n",
            "  Downloading httpx-0.27.0-py3-none-any.whl (75 kB)\n",
            "\u001b[2K     \u001b[90m━━━━━━━━━━━━━━━━━━━━━━━━━━━━━━━━━━━━━━━━\u001b[0m \u001b[32m75.6/75.6 kB\u001b[0m \u001b[31m11.4 MB/s\u001b[0m eta \u001b[36m0:00:00\u001b[0m\n",
            "\u001b[?25hRequirement already satisfied: pydantic<3,>=1.9.0 in /usr/local/lib/python3.10/dist-packages (from openai) (2.7.1)\n",
            "Requirement already satisfied: sniffio in /usr/local/lib/python3.10/dist-packages (from openai) (1.3.1)\n",
            "Requirement already satisfied: tqdm>4 in /usr/local/lib/python3.10/dist-packages (from openai) (4.66.2)\n",
            "Requirement already satisfied: typing-extensions<5,>=4.7 in /usr/local/lib/python3.10/dist-packages (from openai) (4.11.0)\n",
            "Requirement already satisfied: idna>=2.8 in /usr/local/lib/python3.10/dist-packages (from anyio<5,>=3.5.0->openai) (3.7)\n",
            "Requirement already satisfied: exceptiongroup in /usr/local/lib/python3.10/dist-packages (from anyio<5,>=3.5.0->openai) (1.2.1)\n",
            "Requirement already satisfied: certifi in /usr/local/lib/python3.10/dist-packages (from httpx<1,>=0.23.0->openai) (2024.2.2)\n",
            "Collecting httpcore==1.* (from httpx<1,>=0.23.0->openai)\n",
            "  Downloading httpcore-1.0.5-py3-none-any.whl (77 kB)\n",
            "\u001b[2K     \u001b[90m━━━━━━━━━━━━━━━━━━━━━━━━━━━━━━━━━━━━━━━━\u001b[0m \u001b[32m77.9/77.9 kB\u001b[0m \u001b[31m12.5 MB/s\u001b[0m eta \u001b[36m0:00:00\u001b[0m\n",
            "\u001b[?25hCollecting h11<0.15,>=0.13 (from httpcore==1.*->httpx<1,>=0.23.0->openai)\n",
            "  Downloading h11-0.14.0-py3-none-any.whl (58 kB)\n",
            "\u001b[2K     \u001b[90m━━━━━━━━━━━━━━━━━━━━━━━━━━━━━━━━━━━━━━━━\u001b[0m \u001b[32m58.3/58.3 kB\u001b[0m \u001b[31m9.7 MB/s\u001b[0m eta \u001b[36m0:00:00\u001b[0m\n",
            "\u001b[?25hRequirement already satisfied: annotated-types>=0.4.0 in /usr/local/lib/python3.10/dist-packages (from pydantic<3,>=1.9.0->openai) (0.6.0)\n",
            "Requirement already satisfied: pydantic-core==2.18.2 in /usr/local/lib/python3.10/dist-packages (from pydantic<3,>=1.9.0->openai) (2.18.2)\n",
            "Installing collected packages: h11, httpcore, httpx, openai\n",
            "Successfully installed h11-0.14.0 httpcore-1.0.5 httpx-0.27.0 openai-1.25.1\n",
            "Collecting PyPDF2\n",
            "  Downloading pypdf2-3.0.1-py3-none-any.whl (232 kB)\n",
            "\u001b[2K     \u001b[90m━━━━━━━━━━━━━━━━━━━━━━━━━━━━━━━━━━━━━━━━\u001b[0m \u001b[32m232.6/232.6 kB\u001b[0m \u001b[31m5.0 MB/s\u001b[0m eta \u001b[36m0:00:00\u001b[0m\n",
            "\u001b[?25hInstalling collected packages: PyPDF2\n",
            "Successfully installed PyPDF2-3.0.1\n",
            "Collecting faiss-cpu\n",
            "  Downloading faiss_cpu-1.8.0-cp310-cp310-manylinux_2_17_x86_64.manylinux2014_x86_64.whl (27.0 MB)\n",
            "\u001b[2K     \u001b[90m━━━━━━━━━━━━━━━━━━━━━━━━━━━━━━━━━━━━━━━━\u001b[0m \u001b[32m27.0/27.0 MB\u001b[0m \u001b[31m41.9 MB/s\u001b[0m eta \u001b[36m0:00:00\u001b[0m\n",
            "\u001b[?25hRequirement already satisfied: numpy in /usr/local/lib/python3.10/dist-packages (from faiss-cpu) (1.25.2)\n",
            "Installing collected packages: faiss-cpu\n",
            "Successfully installed faiss-cpu-1.8.0\n",
            "Collecting tiktoken\n",
            "  Downloading tiktoken-0.6.0-cp310-cp310-manylinux_2_17_x86_64.manylinux2014_x86_64.whl (1.8 MB)\n",
            "\u001b[2K     \u001b[90m━━━━━━━━━━━━━━━━━━━━━━━━━━━━━━━━━━━━━━━━\u001b[0m \u001b[32m1.8/1.8 MB\u001b[0m \u001b[31m31.4 MB/s\u001b[0m eta \u001b[36m0:00:00\u001b[0m\n",
            "\u001b[?25hRequirement already satisfied: regex>=2022.1.18 in /usr/local/lib/python3.10/dist-packages (from tiktoken) (2023.12.25)\n",
            "Requirement already satisfied: requests>=2.26.0 in /usr/local/lib/python3.10/dist-packages (from tiktoken) (2.31.0)\n",
            "Requirement already satisfied: charset-normalizer<4,>=2 in /usr/local/lib/python3.10/dist-packages (from requests>=2.26.0->tiktoken) (3.3.2)\n",
            "Requirement already satisfied: idna<4,>=2.5 in /usr/local/lib/python3.10/dist-packages (from requests>=2.26.0->tiktoken) (3.7)\n",
            "Requirement already satisfied: urllib3<3,>=1.21.1 in /usr/local/lib/python3.10/dist-packages (from requests>=2.26.0->tiktoken) (2.0.7)\n",
            "Requirement already satisfied: certifi>=2017.4.17 in /usr/local/lib/python3.10/dist-packages (from requests>=2.26.0->tiktoken) (2024.2.2)\n",
            "Installing collected packages: tiktoken\n",
            "Successfully installed tiktoken-0.6.0\n"
          ]
        }
      ],
      "source": [
        "!pip install langchain\n",
        "!pip install openai\n",
        "!pip install PyPDF2\n",
        "!pip install faiss-cpu\n",
        "!pip install tiktoken"
      ]
    },
    {
      "cell_type": "code",
      "execution_count": 2,
      "metadata": {
        "id": "v8fCmC-6Q3pP"
      },
      "outputs": [],
      "source": [
        "from PyPDF2 import PdfReader\n",
        "from langchain.embeddings.openai import OpenAIEmbeddings\n",
        "from langchain.text_splitter import CharacterTextSplitter\n",
        "from langchain.vectorstores import FAISS"
      ]
    },
    {
      "cell_type": "markdown",
      "metadata": {
        "id": "xP1-3VjZdlf4"
      },
      "source": []
    },
    {
      "cell_type": "code",
      "execution_count": 11,
      "metadata": {
        "id": "_aQ7ps_dRJOq"
      },
      "outputs": [],
      "source": [
        "import os\n",
        "os.environ[\"OPENAI_API_KEY\"] = \"OPENAI Secret here\""
      ]
    },
    {
      "cell_type": "code",
      "execution_count": 4,
      "metadata": {
        "id": "_FA1ZERdRLAM"
      },
      "outputs": [],
      "source": [
        "# provide the path of  pdf file/files.\n",
        "pdfreader = PdfReader('bank.pdf')"
      ]
    },
    {
      "cell_type": "code",
      "execution_count": 5,
      "metadata": {
        "id": "q9AeO9cDRqMj"
      },
      "outputs": [],
      "source": [
        "from typing_extensions import Concatenate\n",
        "# read text from pdf\n",
        "raw_text = ''\n",
        "for i, page in enumerate(pdfreader.pages):\n",
        "    content = page.extract_text()\n",
        "    if content:\n",
        "        raw_text += content"
      ]
    },
    {
      "cell_type": "code",
      "execution_count": 6,
      "metadata": {
        "colab": {
          "base_uri": "https://localhost:8080/",
          "height": 161
        },
        "id": "yGlxUMl-Rsmy",
        "outputId": "6a6728e7-ad6a-4055-a3fe-6ed3250617e3"
      },
      "outputs": [
        {
          "data": {
            "application/vnd.google.colaboratory.intrinsic+json": {
              "type": "string"
            },
            "text/plain": [
              "'Loans Description  \\nSmart bank mainl y has 5 type s of loan schemes.  \\n1. Overdra ft Facilities  \\n2. Housing Loans  \\n3. Education Loans  \\n4. Pensioners ’ Loans  \\n5. Personal Loans  \\n1. Over draft  Facilities  \\nAn overdraft is the ideal way to manage your cash flow at competitive rates of interest at speed. It is \\nlinked to your current account and you can use as much as you need, up to your limit. You can also apply \\nfor and either increase or decrease your limit through Internet banking. The controls are in your hands.  \\n• An overdraft is quick and easy to arrange  \\n• The cash is available when you need it  \\n• You only pay interest on what you use, not on the full amount of your set limit  \\n• Sole proprietors can apply for an overdraft or increase their limits   \\n2. Housing Loans  \\n2.1. Housing Loan Sche me \\n• Purchase a land to construct a house later  \\n• Purchase a land and to construct a house  \\n• Construct a house in a land owned by the borrower/s  \\n• Purchase a house/ partly constructed house/ condominium unit  \\n• Complete construction/ renovation/ extension/ repair of an existing house/ condominium unit  \\n• Landscaping/ interior decoration of the house/ condominium unit  \\n• Construction of houses/ apartments for sale  \\n- Please contact the relevant branch for more information.        \\n- This facility is provided only for commercial -purpose house builders  \\nQuantum of the Loan  \\n• Quantum of Loan : A maximum of Rs. 50 Million  \\n• Repayment Period : 25 years  \\n• Area of Operation : All Island  \\nEligibility  \\n• Be a Sri Lankan Citizen/s above the age of 18 years  \\n• The borrower should be a resident of Sri Lanka  \\n• Should not be a defaulter of Smart  Bank  or any other financial institution  \\n• Professionals with fixed/non -fixed income, permanent employees of government, statutory \\nbodies, private sector, self -employed, farmers, and cultivators etc.  \\n• In case of a joint housing loan, the co -borrowers should be close relatives or directly interested \\nparties for purchasing/developing of property  Rate of advance  \\nPurpose  Rates of Advance  \\nPurchase a land to construct a house later  Maximum of 75% of reviewed market value or purchase \\nprice of the property, whichever is lesser  \\nPurchase a land and to construct a house  • Land Purchasing  \\nMaximum of 75% of reviewed market value or purchase \\nprice of the property, whichever is lesser  \\n• House Construction  \\nMaximum of 90% of the BOQ  \\nConstruct a house in a land owned by the \\nborrower/co -borrower  Maximum of 90% of the BOQ  \\nPurchase a house/ partly constructed \\nhouse/ condominium unit  Maximum of 75% of reviewed market value or purchase \\nprice of the property, whichever is lesser.  \\nComplete construction/ renovation, \\nextension / repair of an existing house/ \\ncondominium unit  90% of the BOQ value  \\nLandscape/ interior decoration of existing \\nhouse/ condominium unit  If reviewed forced sale value of the house/ apartment is \\nabove the loan amount - 100% of cost  \\nIf not - 75% of cost or reviewed forced sale value of the \\nhouse property, whichever is less.  \\nConstruction of houses/ Apartments for sale  Maximum 70% of the BOQ value  \\n \\n \\n Security Collateral  \\n• Mortgage over the subject property / property owned by the applicant/s.  \\nConditions Apply  \\n• (Smart Bank  holds the authority to change, add or revise any condition, term or statement in this \\nfacility)  \\n• For more information, please contact the Manager at your nearest Smart  Branch or call centre: \\n1234  \\n \\n2.2. Housing Loan for University Staff  \\n• Smart Bank  offers a special housing loan scheme to officers with a minimum of 5 year service \\nand confirmed in Service who are serving in the universities which are registered under the \\nUniversities Act No: 16 of 1978.  \\n• A loan under this scheme shall be granted only once during the period of service.  \\nQuantum of the Loan Facility  \\n• Academic Staff and Non Academic Staff Grade officers : Rs. 2.0 Million  \\n• Non -Staff Grade officers: Rs. 1.0 Million  \\nConditions Apply  \\n• (Smart Bank  holds the authority to change, add or revise any condition, term or statement in this \\nfacility)  \\n \\n2.3. Housing Loan Scheme for the Permanent Cadre Employees  \\n• This Housing Loan Scheme is designed for Sri Lanka’s permanent cadre salaried employees in \\nboth public and private sector. The objective is to offer a stable solution to a nagging housing \\nproblem of the established working professional.  \\nRepayment Period  \\n• Maximum 25 years. However, the loan should be fully settled before the borrower’s retirement \\nday \\nSecurity/ Collateral  \\n• Primary mortgage over the property to be developed.  \\n• In case of a condominium apartment, the property to be mortgaged to the bank after \\ncompletion of the construction. A tripartite agreement should be signed between the developer, \\nborrower and the bank to continue the process until the mortgage of the proper ty has been fully \\nrecovered.  \\n \\n How to apply online  for housing loans  \\nIt takes only few minutes to complete your request. When you\\'re finished,  we\\'ll give you a response \\nimmediately.  \\nUse the link : https://forms. smartbank .lk/housing/housing  to apply online  \\nWhat you\\'ll need?  \\n• Calculate your eligible loan amount using \"Loan Calculator\" provided in this site.  \\n• Your Smart Bank  account number (if you have one).  \\n• Financial details including your income & expenses.  \\n• You are required to specify your purpose. Accordingly,  you will be notified information required \\nto process your request.  \\nWhat happens after you apply?  \\n• SMS will be sent to your mobile number, with a reference, acknowledging your request.  \\n• You will be notified (via email) to submit documents, if eligible to proceed.  \\n• Once your Loan is approved, SMS/email confirmation will be sent informing the next step.  \\nNumber of applicants  \\n• Only individual applications are facilitated online. For joint applications, please visit nearest \\nSmart Bank  branch.  \\n3. Education Loan  \\n3.1. Educational Loan  \\nFeatures  \\n• Smart Bank  Educational Loans provide the financial support you need to achieve your higher \\neducational goals at local or foreign universities  \\n• Option of paying only the interest until the degree is complete  \\n• Receive the maximum loan amount necessary for your requirements  \\n• Speedy service  \\n• No hidden costs  \\nLoan Amount  \\n• Maximum Rs. 10.0 Million (or 80%of the course fee which is less)  \\nRepayment Period  \\n• Maximum of 7 years with 04 years Grace period  \\nSecurity  \\n• Mortgage of property for facilities over Rs. 500,000/ -   \\n Purpose of Loan  \\n• Registration Fees  \\n• Course Fees  \\n• Examination Fees  \\n• Payments for Travel Expenses can be considered for Foreign Universities  \\nEligibility  \\nSmart Bank  Customers and Students  \\n• Should have a minimum of 3 passes at G.C.E. (A/L) to follow degree courses  \\n• Should follow Post Graduate Examinations and Diplomas relevant to current employment  \\n• Should obtain the approval of the University Grant Commission of Sri Lanka for local/foreign \\neducational institute, university and course  \\nRequired Documents  \\n• Loan Application  \\n• Letter from University  \\n• Proof of identification (NIC/Passport)  \\n3.2. Laptop L oan \\nA special loan scheme to enable University Students the funds to purchase Laptop Computers  \\nLoan Amount  \\n• Up to a maximum of Rs. 75,000/ - \\nRate of Interest  \\n• 0% (* Conditions apply. During NPA, customer should pay monthly AWPLR+0.5 subject to floor \\nrate of 8.5% ) \\nRepayment Period  \\n• Up to a maximum of 3 years  \\nCollateral  \\n• A Personal Guarantee  \\nEligibility  \\n• Only for students in National Universities  \\n• Joint loan with a parent/guardian  \\nRequired Documents  \\n• Duly completed Application  \\n• Student Record Book and Student ID  \\n• NIC of Student, Parent/Guardian and Guarantor  • Recommendation Letter by an Authorized Person of the University  \\n*Conditions apply  \\n4. Government Pensioner ’ Loan Scheme  \\nPurpose  \\n• To Start a Business  \\n• Educational Expenses of their children  \\n• To meet Medical Expenses  \\n• House Repairs  \\n• Any Other Purpose legally acceptable (to uplift the lifestyle of the pensioners)  \\nEligibility  \\n• Government Pensioners below 75 years of age  \\n• Pension should be remitted to Smart Bank  Account (Joint accounts will not be permitted.)  \\nLoan Amount  \\n• No upper limit  \\n• (Monthly installment of the loan should be below 70% of gross pension)  \\nRepayment  \\n• Maximum 15 years  \\nSecurity  \\n• Pension should be remitted to Smart Bank  Account.  \\n• Decreasing Term Assurance Policy (DTA Policy)  \\n* Conditions Apply  \\n(Smart Bank holds the authority to change, add or revise any term and condition in this facility).  \\nFor more information, please contact the Manager at your nearest Smart Bank  Branch or Smart Bank  Call \\nCentre: 1234  \\n5. Personal Loans  \\n5.1. Smart Bank Personal Loan  \\nGet a step closer to your dreams and goals by availing our Personal Loans and meet your financial needs. \\nYou can avail a personal loan to meet unexpected expenses, a dream holiday, school or college fees, \\nwedding expenditure, home improvement expenses or e ven to purchase consumer durables.  \\n• Simplified documentation  \\n• Competitive rates  \\n• Transparency  \\n• Availability of Personal Loans for a variety of needs  \\n How to Apply  \\n• Click on the Apply Online button (or Visit any Smart Bank  Branch)  \\n• Complete the online Application  \\n• Once completed click on Submit button (please remember the reference number given)  \\n• You will receive an email or telephone call to visit the branch with required documents  \\nEligibility  \\nAn applicant should be , \\n• In the age group of 18 -55 (Applicants over 55 can be entertained, but only under special \\ncircumstances)  \\n• A salaried employee belonging to the following categories:   \\n• Permanent employees of Government Service/ Statutory Bodies with a take home salary of LKR \\n30,000 or more  \\n• Employees of Private sector entities as listed by the bank (Refer List) with a take home salary of \\nLKR 40,000 or more  \\nDocuments  \\nFor your convenience, we provide a Personal Loan with minimum documentation  \\n• Loan Application  \\n• Letter from Employer confirming service, position & salary  \\n• Form No.375  \\n• Proof of Identification (NIC/ Passport)  \\n5.2. Loans for Professionals  \\nThis loan scheme is designed to provide financial support to professionals in designated sectors.  \\nEligible sectors  \\n• Health Sector  \\n- Members of the Government Medical Officers Association  \\n- Members of Sri Lanka Medical Council and Government Ayurveda Medical Officers  \\n- Members of the Government Dental Surgeons Association  \\n- State Veterinary Surgeons Association and the Veterinary Council of Sri Lanka  \\n- Government Service Nursing Staff, Nursing Staff in Probation Period and the Students of \\nNTS  \\n- Members of Medical Laboratory Technologists (MLTs)  \\n• SLASA/SLEASA/SLPSA/GICTPA  \\n• Engineers (IESL, IIESL)  \\n• Tri Forces (Army, Navy, Airforce), Sri Lanka Police  \\n• Government Employees  \\n• Accountants  \\n• Professional Qualified Persons ( MAAT, ACA, FCA, ACMA, CGMA, ACCA)  \\n• Employees of the office of the President/ Prime Minister  • Permanent Employees of the Institute of Bankers of Sri Lanka (IBSL)  \\n• Employees of Sri Lanka Insurance Corporation (SLIC)  \\n• Academic/Non -Academic Staff of Sri Lanka Institute of Information Technology  \\n• (SLIIT)  \\n• Customs  \\n• Valuers  \\n• Members of the Government Surveyors Association  \\n• Members of the Association of the Government Scientific Officers (AGSO)  \\n• Employees of Airport and Aviation Services     \\nDocuments Required  \\n• Loan Application  \\n• Letter from Employer confirming service, position & salary  \\n• Form No. 375 (Permanent employees only)  \\n• DTA Policy  \\n• Any other documents if required           \\nSecurity  \\n• One/ two guarantors in the same/higher grade to the borrower based on the loan scheme.  '"
            ]
          },
          "execution_count": 6,
          "metadata": {},
          "output_type": "execute_result"
        }
      ],
      "source": [
        "raw_text"
      ]
    },
    {
      "cell_type": "code",
      "execution_count": 13,
      "metadata": {
        "id": "VP6ap_PSRt7s"
      },
      "outputs": [],
      "source": [
        "# We need to split the text using Character Text Split such that it sshould not increse token size\n",
        "text_splitter = CharacterTextSplitter(\n",
        "    separator = \"\\n\",\n",
        "    chunk_size = 400,\n",
        "    chunk_overlap  = 200,\n",
        "    length_function = len,\n",
        ")\n",
        "texts = text_splitter.split_text(raw_text)"
      ]
    },
    {
      "cell_type": "code",
      "execution_count": 14,
      "metadata": {
        "colab": {
          "base_uri": "https://localhost:8080/"
        },
        "id": "i9GLXwH1SVOe",
        "outputId": "cf470453-3f98-4027-90a2-4357c279b232"
      },
      "outputs": [
        {
          "data": {
            "text/plain": [
              "58"
            ]
          },
          "execution_count": 14,
          "metadata": {},
          "output_type": "execute_result"
        }
      ],
      "source": [
        "len(texts)"
      ]
    },
    {
      "cell_type": "code",
      "execution_count": 15,
      "metadata": {
        "id": "wqy4vJhrSXUT"
      },
      "outputs": [],
      "source": [
        "# Download embeddings from OpenAI\n",
        "embeddings = OpenAIEmbeddings()"
      ]
    },
    {
      "cell_type": "code",
      "execution_count": 16,
      "metadata": {
        "id": "3igYiWjISjvS"
      },
      "outputs": [],
      "source": [
        "document_search = FAISS.from_texts(texts, embeddings)"
      ]
    },
    {
      "cell_type": "code",
      "execution_count": 17,
      "metadata": {
        "colab": {
          "base_uri": "https://localhost:8080/"
        },
        "id": "6bJpE1qlSlNb",
        "outputId": "54b7dff3-47ac-4fc6-c776-f1be8bea697a"
      },
      "outputs": [
        {
          "data": {
            "text/plain": [
              "<langchain_community.vectorstores.faiss.FAISS at 0x7a394d137820>"
            ]
          },
          "execution_count": 17,
          "metadata": {},
          "output_type": "execute_result"
        }
      ],
      "source": [
        "document_search\n"
      ]
    },
    {
      "cell_type": "code",
      "execution_count": 18,
      "metadata": {
        "id": "Po-ip1fPSonv"
      },
      "outputs": [],
      "source": [
        "from langchain.chains.question_answering import load_qa_chain\n",
        "from langchain.llms import OpenAI"
      ]
    },
    {
      "cell_type": "code",
      "execution_count": 19,
      "metadata": {
        "colab": {
          "base_uri": "https://localhost:8080/"
        },
        "id": "iYl2PzKSSqg0",
        "outputId": "26b280ac-a084-44d5-a601-6c924938470f"
      },
      "outputs": [
        {
          "name": "stderr",
          "output_type": "stream",
          "text": [
            "/usr/local/lib/python3.10/dist-packages/langchain_core/_api/deprecation.py:119: LangChainDeprecationWarning: The class `OpenAI` was deprecated in LangChain 0.0.10 and will be removed in 0.2.0. An updated version of the class exists in the langchain-openai package and should be used instead. To use it run `pip install -U langchain-openai` and import as `from langchain_openai import OpenAI`.\n",
            "  warn_deprecated(\n"
          ]
        }
      ],
      "source": [
        "chain = load_qa_chain(OpenAI(), chain_type=\"stuff\")"
      ]
    },
    {
      "cell_type": "code",
      "execution_count": 20,
      "metadata": {
        "colab": {
          "base_uri": "https://localhost:8080/",
          "height": 127
        },
        "id": "GQafhpOz4IsV",
        "outputId": "f977d722-108d-4510-a567-3dbc048a89b3"
      },
      "outputs": [
        {
          "name": "stderr",
          "output_type": "stream",
          "text": [
            "/usr/local/lib/python3.10/dist-packages/langchain_core/_api/deprecation.py:119: LangChainDeprecationWarning: The method `Chain.run` was deprecated in langchain 0.1.0 and will be removed in 0.2.0. Use invoke instead.\n",
            "  warn_deprecated(\n"
          ]
        },
        {
          "data": {
            "application/vnd.google.colaboratory.intrinsic+json": {
              "type": "string"
            },
            "text/plain": [
              "' The procedure for overdrafts is quick and easy to arrange. You can apply for an overdraft or increase your limit through internet banking, and the controls are in your hands. The cash is available when you need it, and you only pay interest on what you use, not on the full amount of your set limit. Sole proprietors can also apply for an overdraft or increase their limits.'"
            ]
          },
          "execution_count": 20,
          "metadata": {},
          "output_type": "execute_result"
        }
      ],
      "source": [
        "query = \"what is the proceedure for overdrafts\"\n",
        "docs = document_search.similarity_search(query)\n",
        "chain.run(input_documents=docs, question=query)"
      ]
    },
    {
      "cell_type": "code",
      "execution_count": 21,
      "metadata": {
        "colab": {
          "base_uri": "https://localhost:8080/",
          "height": 53
        },
        "id": "7sjc1Xh2SsTs",
        "outputId": "4c7af539-8802-4101-fbac-76922f3b1cff"
      },
      "outputs": [
        {
          "data": {
            "application/vnd.google.colaboratory.intrinsic+json": {
              "type": "string"
            },
            "text/plain": [
              "' The Quantum of the Loan for this specific housing loan scheme is a maximum of Rs. 50 Million, with a repayment period of 25 years and available for all island residents.'"
            ]
          },
          "execution_count": 21,
          "metadata": {},
          "output_type": "execute_result"
        }
      ],
      "source": [
        "query = \"What is the Quantum of the Loan\"\n",
        "docs = document_search.similarity_search(query)\n",
        "chain.run(input_documents=docs, question=query)"
      ]
    },
    {
      "cell_type": "code",
      "execution_count": 22,
      "metadata": {
        "colab": {
          "base_uri": "https://localhost:8080/",
          "height": 35
        },
        "id": "WShzLRADtu_5",
        "outputId": "1db993c9-4e87-4dbe-aca3-2764da8f89a3"
      },
      "outputs": [
        {
          "data": {
            "application/vnd.google.colaboratory.intrinsic+json": {
              "type": "string"
            },
            "text/plain": [
              "' The maximum loan amount for this housing loan scheme is Rs. 10.0 Million, or 80% of the course fee, whichever is less.'"
            ]
          },
          "execution_count": 22,
          "metadata": {},
          "output_type": "execute_result"
        }
      ],
      "source": [
        "query = \"what is the max scheme of the above\"\n",
        "docs = document_search.similarity_search(query)\n",
        "chain.run(input_documents=docs, question=query)"
      ]
    },
    {
      "cell_type": "code",
      "execution_count": null,
      "metadata": {
        "id": "hIGkbc5stzXb"
      },
      "outputs": [],
      "source": []
    }
  ],
  "metadata": {
    "accelerator": "GPU",
    "colab": {
      "gpuType": "T4",
      "provenance": []
    },
    "kernelspec": {
      "display_name": "Python 3",
      "name": "python3"
    },
    "language_info": {
      "name": "python"
    }
  },
  "nbformat": 4,
  "nbformat_minor": 0
}
